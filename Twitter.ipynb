{
 "cells": [
  {
   "cell_type": "markdown",
   "metadata": {},
   "source": [
    "!pip3 install tweepy\n",
    "!pip3 install networkx\n",
    "!pip3 install matplotlib\n",
    "!pip3 install pandas\n",
    "\n"
   ]
  },
  {
   "cell_type": "code",
   "execution_count": 1,
   "metadata": {},
   "outputs": [],
   "source": [
    "import tweepy\n",
    "import networkx as nx\n",
    "import matplotlib.pyplot as plt\n",
    "import pandas as pd\n",
    "import math"
   ]
  },
  {
   "cell_type": "code",
   "execution_count": null,
   "metadata": {},
   "outputs": [
    {
     "name": "stdout",
     "output_type": "stream",
     "text": [
      "User name: Hrishita Singh\n"
     ]
    }
   ],
   "source": [
    "import tweepy\n",
    "\n",
    "consumer_key = .......\n",
    "consumer_secret = .......\n",
    "access_token = .... \n",
    "access_token_secret =.....\n",
    "\n",
    "client = tweepy.Client(\n",
    "    consumer_key=consumer_key,\n",
    "    consumer_secret=consumer_secret,\n",
    "    access_token=access_token,\n",
    "    access_token_secret=access_token_secret\n",
    ")\n",
    "\n",
    "\n",
    "try:\n",
    "    user = client.get_me()\n",
    "    print(\"User name:\", user.data[\"name\"])\n",
    "except tweepy.TweepError as e:\n",
    "    print(\"Error verifying credentials:\", e)\n"
   ]
  },
  {
   "cell_type": "code",
   "execution_count": 3,
   "metadata": {},
   "outputs": [],
   "source": [
    "# Function to get list of friends for the specified user.\n",
    "def get_friends_list(user_screen_name):\n",
    "    \n",
    "    #Get data using twitter api. Returns list of (user_id,screen_name)\n",
    "    Friends = api.GetFriends(screen_name = user_screen_name)\n",
    "    \n",
    "    #Empty list for adding tuple with user screen_name and friends screen_name\n",
    "    list_of_friends = []\n",
    "\n",
    "    for i in Friends:\n",
    "        list_of_friends.append((user_screen_name,i.screen_name))\n",
    "    \n",
    "    return list_of_friends"
   ]
  },
  {
   "cell_type": "code",
   "execution_count": 4,
   "metadata": {},
   "outputs": [],
   "source": [
    "# Function to get top 50 friends of specified user.\n",
    "# Top friends are those who have highest number of followers.\n",
    "def get_top_50_friends(screenname):\n",
    "    user_screen_name = get_friends_list(screenname)\n",
    "    \n",
    "    user_df = pd.DataFrame(user_screen_name)\n",
    "    user_df.columns = [\"Users\",\"Follows\"]\n",
    "    \n",
    "    list_of_user_friends = user_df.Follows.tolist()\n",
    "    \n",
    "    lookup_for_user_friends = []\n",
    "    number_of_users_per_request = 99\n",
    "\n",
    "    for i in range(math.ceil(len(list_of_user_friends)/100)):\n",
    "    \n",
    "        start = number_of_users_per_request*i\n",
    "        end = start+number_of_users_per_request\n",
    "        list_for_api = list_of_user_friends[start:end]\n",
    "\n",
    "        lookup_for_user_friends.append(api.UsersLookup(screen_name=list_for_api,return_json = True))\n",
    "    \n",
    "    lookup = (list(itertools.chain.from_iterable(lookup_for_user_friends)))\n",
    "\n",
    "    to_filter = []\n",
    "    for objects in lookup:\n",
    "        to_filter.append((screenname,objects[\"screen_name\"],objects[\"followers_count\"]))\n",
    "    \n",
    "    to_filter.sort(key = lambda x: x[2],reverse = True)\n",
    "    \n",
    "    return to_filter[:50]"
   ]
  },
  {
   "cell_type": "code",
   "execution_count": 5,
   "metadata": {},
   "outputs": [],
   "source": [
    "# Get TSeries Data\n",
    "Tseries = get_top_50_friends(\"TSeries\")"
   ]
  },
  {
   "cell_type": "code",
   "execution_count": 6,
   "metadata": {},
   "outputs": [
    {
     "data": {
      "text/plain": [
       "[('TSeries', 'YouTube', 72174488),\n",
       " ('TSeries', 'Twitter', 58334378),\n",
       " ('TSeries', 'jimmyfallon', 51650350),\n",
       " ('TSeries', 'nytimes', 47358702),\n",
       " ('TSeries', 'SrBachchan', 44350729),\n",
       " ('TSeries', 'BeingSalmanKhan', 41546262),\n",
       " ('TSeries', 'iamsrk', 41112296),\n",
       " ('TSeries', 'akshaykumar', 39245581),\n",
       " ('TSeries', 'sachin_rt', 34041881),\n",
       " ('TSeries', 'iHrithik', 29714237),\n",
       " ('TSeries', 'deepikapadukone', 27722541),\n",
       " ('TSeries', 'priyankachopra', 26647764),\n",
       " ('TSeries', 'aamir_khan', 26430949),\n",
       " ('TSeries', 'arrahman', 23370767),\n",
       " ('TSeries', 'AnushkaSharma', 22047959),\n",
       " ('TSeries', 'aliaa08', 20701386),\n",
       " ('TSeries', 'AnupamPKher', 18001389),\n",
       " ('TSeries', 'karanjohar', 17257349),\n",
       " ('TSeries', 'juniorbachchan', 15370471),\n",
       " ('TSeries', 'shahidkapoor', 15293112),\n",
       " ('TSeries', 'Asli_Jacqueline', 14742923),\n",
       " ('TSeries', 'TwitterVideo', 14318165),\n",
       " ('TSeries', 'ParineetiChopra', 13824032),\n",
       " ('TSeries', 'RanveerOfficial', 13791866),\n",
       " ('TSeries', 'ajaydevgn', 13705536),\n",
       " ('TSeries', 'ShraddhaKapoor', 13494527),\n",
       " ('TSeries', 'VineCreators', 13287298),\n",
       " ('TSeries', 'sonamakapoor', 13177389),\n",
       " ('TSeries', 'timesofindia', 13156937),\n",
       " ('TSeries', 'TwitterMusic', 11840778),\n",
       " ('TSeries', 'Varun_dvn', 11737921),\n",
       " ('TSeries', 'SidMalhotra', 9725574),\n",
       " ('TSeries', 'billboard', 9540962),\n",
       " ('TSeries', 'thevirdas', 7836035),\n",
       " ('TSeries', 'shrutihaasan', 7743217),\n",
       " ('TSeries', 'AllIndiaBakchod', 7037191),\n",
       " ('TSeries', 'bipsluvurself', 6557930),\n",
       " ('TSeries', 'arjunk26', 6328171),\n",
       " ('TSeries', 'AnilKapoor', 6189459),\n",
       " ('TSeries', 'RanaDaggubati', 6124948),\n",
       " ('TSeries', 'kritisanon', 6019856),\n",
       " ('TSeries', 'WhoSunilGrover', 6010046),\n",
       " ('TSeries', 'ayushmannk', 5866008),\n",
       " ('TSeries', 'DishPatani', 5807630),\n",
       " ('TSeries', 'rajinikanth', 5785034),\n",
       " ('TSeries', 'bomanirani', 5514027),\n",
       " ('TSeries', 'asliyoyo', 5430679),\n",
       " ('TSeries', 'MumbaiPolice', 5080671),\n",
       " ('TSeries', 'iTIGERSHROFF', 4602001),\n",
       " ('TSeries', 'rampalarjun', 4518339)]"
      ]
     },
     "execution_count": 6,
     "metadata": {},
     "output_type": "execute_result"
    }
   ],
   "source": [
    "Tseries"
   ]
  },
  {
   "cell_type": "code",
   "execution_count": 7,
   "metadata": {},
   "outputs": [
    {
     "data": {
      "text/plain": [
       "[('TSeries', 'YouTube'),\n",
       " ('TSeries', 'Twitter'),\n",
       " ('TSeries', 'jimmyfallon'),\n",
       " ('TSeries', 'nytimes'),\n",
       " ('TSeries', 'SrBachchan'),\n",
       " ('TSeries', 'BeingSalmanKhan'),\n",
       " ('TSeries', 'iamsrk'),\n",
       " ('TSeries', 'akshaykumar'),\n",
       " ('TSeries', 'sachin_rt'),\n",
       " ('TSeries', 'iHrithik'),\n",
       " ('TSeries', 'deepikapadukone'),\n",
       " ('TSeries', 'priyankachopra'),\n",
       " ('TSeries', 'aamir_khan'),\n",
       " ('TSeries', 'arrahman'),\n",
       " ('TSeries', 'AnushkaSharma'),\n",
       " ('TSeries', 'aliaa08'),\n",
       " ('TSeries', 'AnupamPKher'),\n",
       " ('TSeries', 'karanjohar'),\n",
       " ('TSeries', 'juniorbachchan'),\n",
       " ('TSeries', 'shahidkapoor'),\n",
       " ('TSeries', 'Asli_Jacqueline'),\n",
       " ('TSeries', 'TwitterVideo'),\n",
       " ('TSeries', 'ParineetiChopra'),\n",
       " ('TSeries', 'RanveerOfficial'),\n",
       " ('TSeries', 'ajaydevgn'),\n",
       " ('TSeries', 'ShraddhaKapoor'),\n",
       " ('TSeries', 'VineCreators'),\n",
       " ('TSeries', 'sonamakapoor'),\n",
       " ('TSeries', 'timesofindia'),\n",
       " ('TSeries', 'TwitterMusic'),\n",
       " ('TSeries', 'Varun_dvn'),\n",
       " ('TSeries', 'SidMalhotra'),\n",
       " ('TSeries', 'billboard'),\n",
       " ('TSeries', 'thevirdas'),\n",
       " ('TSeries', 'shrutihaasan'),\n",
       " ('TSeries', 'AllIndiaBakchod'),\n",
       " ('TSeries', 'bipsluvurself'),\n",
       " ('TSeries', 'arjunk26'),\n",
       " ('TSeries', 'AnilKapoor'),\n",
       " ('TSeries', 'RanaDaggubati'),\n",
       " ('TSeries', 'kritisanon'),\n",
       " ('TSeries', 'WhoSunilGrover'),\n",
       " ('TSeries', 'ayushmannk'),\n",
       " ('TSeries', 'DishPatani'),\n",
       " ('TSeries', 'rajinikanth'),\n",
       " ('TSeries', 'bomanirani'),\n",
       " ('TSeries', 'asliyoyo'),\n",
       " ('TSeries', 'MumbaiPolice'),\n",
       " ('TSeries', 'iTIGERSHROFF'),\n",
       " ('TSeries', 'rampalarjun')]"
      ]
     },
     "execution_count": 7,
     "metadata": {},
     "output_type": "execute_result"
    }
   ],
   "source": [
    "to_filter = [i[0:2] for i in Tseries ]\n",
    "to_filter"
   ]
  },
  {
   "cell_type": "code",
   "execution_count": 8,
   "metadata": {},
   "outputs": [
    {
     "data": {
      "text/plain": [
       "[('TSeries', 'BeingSalmanKhan'),\n",
       " ('TSeries', 'iamsrk'),\n",
       " ('TSeries', 'akshaykumar'),\n",
       " ('TSeries', 'sachin_rt'),\n",
       " ('TSeries', 'iHrithik'),\n",
       " ('TSeries', 'deepikapadukone'),\n",
       " ('TSeries', 'priyankachopra'),\n",
       " ('TSeries', 'aamir_khan'),\n",
       " ('TSeries', 'arrahman'),\n",
       " ('TSeries', 'AnushkaSharma'),\n",
       " ('TSeries', 'aliaa08'),\n",
       " ('TSeries', 'AnupamPKher'),\n",
       " ('TSeries', 'karanjohar')]"
      ]
     },
     "execution_count": 8,
     "metadata": {},
     "output_type": "execute_result"
    }
   ],
   "source": [
    "# Select group of celebrities that we wish to focus on\n",
    "focus = to_filter[5:18]\n",
    "focus"
   ]
  },
  {
   "cell_type": "code",
   "execution_count": 10,
   "metadata": {},
   "outputs": [],
   "source": [
    "# Takes 20 mins to run\n",
    "# Added delay to the function because api calls for twitter are restricted for 15 calls per 15 minutes.\n",
    "new_list = []\n",
    "for people in focus:\n",
    "    new_list.append(get_top_50_friends(people[1]))\n",
    "    time.sleep(90)"
   ]
  },
  {
   "cell_type": "code",
   "execution_count": 11,
   "metadata": {},
   "outputs": [],
   "source": [
    "data = list(itertools.chain.from_iterable(new_list))"
   ]
  },
  {
   "cell_type": "code",
   "execution_count": 12,
   "metadata": {},
   "outputs": [],
   "source": [
    "save_data = [i[0:2] for i in data ]"
   ]
  },
  {
   "cell_type": "code",
   "execution_count": 13,
   "metadata": {},
   "outputs": [],
   "source": [
    "# Save data to a .csv file.\n",
    "with open('/Users/ppdr/Desktop/new_dataset.csv', 'w') as f:\n",
    "    f.write('\\n'.join('{}, {}'.format(x[0],x[1]) for x in save_data))"
   ]
  }
 ],
 "metadata": {
  "kernelspec": {
   "display_name": "Python 3 (ipykernel)",
   "language": "python",
   "name": "python3"
  },
  "language_info": {
   "codemirror_mode": {
    "name": "ipython",
    "version": 3
   },
   "file_extension": ".py",
   "mimetype": "text/x-python",
   "name": "python",
   "nbconvert_exporter": "python",
   "pygments_lexer": "ipython3",
   "version": "3.11.6"
  }
 },
 "nbformat": 4,
 "nbformat_minor": 4
}
